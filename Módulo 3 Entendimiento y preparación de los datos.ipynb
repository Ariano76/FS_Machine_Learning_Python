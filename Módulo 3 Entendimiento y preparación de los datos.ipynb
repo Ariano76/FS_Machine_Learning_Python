{
 "cells": [
  {
   "cell_type": "markdown",
   "metadata": {},
   "source": [
    "# <font color=#003d5c>Análisis Exploratorio de Datos</font>"
   ]
  },
  {
   "cell_type": "markdown",
   "metadata": {},
   "source": [
    "#### Importar la librerías necesarias para el tratamiento de datos"
   ]
  },
  {
   "cell_type": "code",
   "execution_count": null,
   "metadata": {},
   "outputs": [],
   "source": [
    "import pandas as pd\n",
    "import numpy as np"
   ]
  },
  {
   "cell_type": "markdown",
   "metadata": {},
   "source": [
    "#### Leer el fichero como un DataFrame"
   ]
  },
  {
   "cell_type": "code",
   "execution_count": null,
   "metadata": {},
   "outputs": [],
   "source": [
    "df = pd.read_csv('../data/DS_Churn_Banca_CLIENTE.csv')"
   ]
  },
  {
   "cell_type": "markdown",
   "metadata": {},
   "source": [
    "#### Dar una revisión inicial de los Datos. Imprimir los 5 primeros registros"
   ]
  },
  {
   "cell_type": "code",
   "execution_count": null,
   "metadata": {},
   "outputs": [],
   "source": [
    "df.head()"
   ]
  },
  {
   "cell_type": "markdown",
   "metadata": {},
   "source": [
    "#### Mostrar un resumen conciso del DataFrame"
   ]
  },
  {
   "cell_type": "code",
   "execution_count": null,
   "metadata": {
    "scrolled": false
   },
   "outputs": [],
   "source": [
    "df.info()"
   ]
  },
  {
   "cell_type": "markdown",
   "metadata": {},
   "source": [
    "#### Diccionario de Datos"
   ]
  },
  {
   "cell_type": "markdown",
   "metadata": {},
   "source": [
    "|ROL|NOMBRE DE VARIABLE|DESCRIPCIÓN|CORTE|\n",
    "|------|------|\n",
    "|ID|ID_CORRELATIVO|ID Cliente correlativo|mes 0 = mes de referencia|\n",
    "|Partición|CODMES|Mes de referencia|mes 0|\n",
    "|Predictora|FLG_BANCARIZADO|Flag Bancarizado (1) / no bancarizado (0)|mes 0|\n",
    "|Predictora|RANG_INGRESO|Ingreso estimado: rangos de menor hasta mayor ingreso (rang_ingreso_01, rang_ingreso_02, etc)|mes 0|\n",
    "|Predictora|FLAG_LIMA_PROVINCIA|Lugar de residencia: Lima (1), provincia (0)|mes 0|\n",
    "|Predictora|EDAD|Edad|mes 0|\n",
    "|Predictora|ANTIGÜEDAD|Antigüedad|mes 0|\n",
    "|Target|ATTRITION|Flag Attrition / deserción de clientes: attrition (1), No cae en attrition (0)|variable target|\n",
    "|Predictora|RANG_SDO_PASIVO|Saldo ahorros: rangos de menor a mayor monto (cero, rango_sdo_01, rango_sdo_02, etc)|mes 0|\n",
    "|Predictora|SDO_ACTIVO|Saldo / deuda en créditos|mes -5 hasta 0 = últimos 6 meses|\n",
    "|Predictora|FLG_SEGURO|Flag tiene algún seguro: tiene seguro (1), no tiene seguro (0)|mes -5 hasta 0|\n",
    "|Predictora|NRO_PRODUCTOS|Número de productos con la entidad: rangos de menor a mayor cantidad de productos (rango_01, rango_02, etc)|mes 0|\n",
    "|Predictora|FLG_NOMINA|Flag nómina: si (1), no (0)|mes 0|\n",
    "|Predictora|NRO_ACCES_CANAL1|Nro de operaciones por el canal 1|mes -5 hasta 0|\n",
    "|Predictora|NRO_ACCES_CANAL2|Nro de operaciones por el canal 2|mes -5 hasta 0|\n",
    "|Predictora|NRO_ACCES_CANAL3|Nro de operaciones por el canal 3|mes -5 hasta 0|\n",
    "|Predictora|NRO_ENTID_SSFF|Nro de entidades en el sistema financiero|mes -5 hasta 0|\n",
    "|Predictora|FLG_SDO_OTSSFF|Flag tiene saldo en otras entidades del sistema financiero: tiene saldo (1), no tiene saldo (0)|mes -5 hasta 0|"
   ]
  },
  {
   "cell_type": "markdown",
   "metadata": {},
   "source": [
    "#### ¿Podemos optimizar el espacio del DataFrame? Claro. Con las siguientes líneas de código:\n",
    "```python\n",
    "int_columns = df.select_dtypes(include=[np.int64])\n",
    "for col in int_columns:\n",
    "    df[col] = pd.to_numeric(arg=df[col], downcast='integer')\n",
    "\n",
    "float_columns = df.select_dtypes(include=[np.float64])\n",
    "for col in float_columns:\n",
    "    df[col] = pd.to_numeric(arg=df[col], downcast='float')\n",
    "```"
   ]
  },
  {
   "cell_type": "code",
   "execution_count": null,
   "metadata": {},
   "outputs": [],
   "source": [
    "int_columns = df.select_dtypes(include=[np.int64]).columns.tolist()\n",
    "for col in int_columns:\n",
    "    df[col] = pd.to_numeric(arg=df[col], downcast='integer')\n",
    "\n",
    "float_columns = df.select_dtypes(include=[np.float64]).columns.tolist()\n",
    "for col in float_columns:\n",
    "    df[col] = pd.to_numeric(arg=df[col], downcast='float')"
   ]
  },
  {
   "cell_type": "markdown",
   "metadata": {},
   "source": [
    "<div class=\"alert alert-warning\" role=\"alert\">\n",
    "  <strong>Nota:</strong> Para las variables del tipo `Object` lo podemos hacer con el método `as_type()` que permite castear una columna del dataframe a un tipo de dato, en este caso el tipo `category`.\n",
    "</div>"
   ]
  },
  {
   "cell_type": "markdown",
   "metadata": {},
   "source": [
    "#### ¿Se redujo el espacio que ocupa el DataFrame?"
   ]
  },
  {
   "cell_type": "code",
   "execution_count": null,
   "metadata": {
    "scrolled": false
   },
   "outputs": [],
   "source": [
    "df.info()"
   ]
  },
  {
   "cell_type": "markdown",
   "metadata": {},
   "source": [
    "#### Análisis Descriptivo de los datos"
   ]
  },
  {
   "cell_type": "markdown",
   "metadata": {},
   "source": [
    "Mostrar las estadísticas descriptivas que resuman la tendencia central, la dispersión y la forma de la distribución los datos del DataFrame, excluyendo los valores NaN."
   ]
  },
  {
   "cell_type": "code",
   "execution_count": null,
   "metadata": {},
   "outputs": [],
   "source": [
    "df.describe(percentiles=list(np.arange(0, 1, 0.1)), include='all')"
   ]
  },
  {
   "cell_type": "markdown",
   "metadata": {},
   "source": [
    "#### Imprimir las distribuciones de los datos del tipo numérico (int, float)"
   ]
  },
  {
   "cell_type": "markdown",
   "metadata": {},
   "source": [
    "<div class=\"alert alert-info\" role=\"alert\">\n",
    "  <strong>Nota:</strong> Primero identificar las variables numéricas. No se debe considerar las variables `['ID_CORRELATIVO', 'CODMES', 'ATTRITION']`. Para ello podemos utilizar uno de los conceptos de las listas llamado `List Comprehensions`.\n",
    "</div>\n",
    "```python\n",
    "list_3 = [col for col in list_1 if col not in list_2]\n",
    "```"
   ]
  },
  {
   "cell_type": "code",
   "execution_count": null,
   "metadata": {},
   "outputs": [],
   "source": [
    "numeric_columns = int_columns + float_columns\n",
    "numeric_columns = [col for col in numeric_columns if col not in ['ID_CORRELATIVO', 'CODMES', 'ATTRITION']]"
   ]
  },
  {
   "cell_type": "code",
   "execution_count": null,
   "metadata": {
    "scrolled": true
   },
   "outputs": [],
   "source": [
    "for col in numeric_columns:\n",
    "    print(\"--------- {0} --------- \\n\".format(col))\n",
    "    print(df[col].value_counts(bins=5, normalize=True, sort=False, dropna=False), '\\n')"
   ]
  },
  {
   "cell_type": "markdown",
   "metadata": {},
   "source": [
    "#### Obtener los ratios de efectividad por rangos"
   ]
  },
  {
   "cell_type": "code",
   "execution_count": null,
   "metadata": {},
   "outputs": [],
   "source": [
    "df.groupby(pd.qcut(x=df['ANTIGUEDAD'], q=10, duplicates='drop')).agg({'ATTRITION': 'mean', 'ID_CORRELATIVO':'count'})"
   ]
  },
  {
   "cell_type": "code",
   "execution_count": null,
   "metadata": {},
   "outputs": [],
   "source": [
    "for col in float_columns:\n",
    "    print(\"--------- {0} --------- \\n\".format(col))\n",
    "    print(df.groupby(pd.qcut(x=df[col], q=10, duplicates='drop')).agg({'ATTRITION': 'mean', 'ID_CORRELATIVO':'count'}), '\\n')"
   ]
  },
  {
   "cell_type": "markdown",
   "metadata": {},
   "source": [
    "#### Imprimir las distribuciones de los datos del tipo categórico"
   ]
  },
  {
   "cell_type": "code",
   "execution_count": null,
   "metadata": {},
   "outputs": [],
   "source": [
    "str_columns = df.select_dtypes(include=[object]).columns.tolist()"
   ]
  },
  {
   "cell_type": "code",
   "execution_count": null,
   "metadata": {
    "scrolled": true
   },
   "outputs": [],
   "source": [
    "for col in str_columns:\n",
    "    print(\"--------- {0} --------- \\n\".format(col))\n",
    "    print(df[col].value_counts(normalize=True, dropna=False), '\\n')"
   ]
  },
  {
   "cell_type": "markdown",
   "metadata": {},
   "source": [
    "#### Obtener los ratios de efectividad por categoría"
   ]
  },
  {
   "cell_type": "code",
   "execution_count": null,
   "metadata": {
    "scrolled": true
   },
   "outputs": [],
   "source": [
    "for col in str_columns:\n",
    "    print(\"--------- {0} --------- \\n\".format(col))\n",
    "    print(df.groupby(col).agg({'ATTRITION': 'mean', 'ID_CORRELATIVO':'count'}), '\\n')"
   ]
  },
  {
   "cell_type": "markdown",
   "metadata": {},
   "source": [
    "### <font color=#003d5c>Visualización de Datos</font>"
   ]
  },
  {
   "cell_type": "markdown",
   "metadata": {},
   "source": [
    "#### Importar la primera librería necesaria para la visualización de datos:\n",
    "### <font color=#003d5c>1. Matplotlib</font>\n",
    "<img src=\"../img/matplotlib_logo.png\" />"
   ]
  },
  {
   "cell_type": "code",
   "execution_count": null,
   "metadata": {},
   "outputs": [],
   "source": [
    "import matplotlib.pyplot as plt"
   ]
  },
  {
   "cell_type": "markdown",
   "metadata": {},
   "source": [
    "<div class=\"alert alert-info\" role=\"alert\">\n",
    "  <strong>Info:</strong> Para permitir que los gráficos se muestren en el notebook se debe utilizar la siguiente `función mágica`:\n",
    "</div>\n",
    "```python\n",
    "%matplotlib inline\n",
    "```"
   ]
  },
  {
   "cell_type": "code",
   "execution_count": null,
   "metadata": {},
   "outputs": [],
   "source": [
    "%matplotlib inline"
   ]
  },
  {
   "cell_type": "markdown",
   "metadata": {},
   "source": [
    "#### <font color=#003d5c>1.1. Histograma </font>"
   ]
  },
  {
   "cell_type": "markdown",
   "metadata": {},
   "source": [
    "#### Graficar la distribución de la variable numérica <font color=#28a745>ANTIGUEDAD</font> tal como se muestra en la imagen:\n",
    "La función plt.hist() te permite graficar la distribución de una arreglo de longitud n.\n",
    "```python\n",
    "plt.hist(x=df[col], bins=12, density=False, color='green', alpha=0.75)\n",
    "```"
   ]
  },
  {
   "cell_type": "code",
   "execution_count": null,
   "metadata": {
    "scrolled": true
   },
   "outputs": [],
   "source": [
    "n, bins, patches = plt.hist(x=df['ANTIGUEDAD'].dropna(), bins=12, density=True, color='green', alpha=0.75)\n",
    "plt.xlabel('Antiguedad')\n",
    "plt.ylabel('Densidad')\n",
    "plt.title('Histograma de Antiguedad')\n",
    "plt.axis([-0.5, 15, 0, 6000])\n",
    "plt.grid(True)"
   ]
  },
  {
   "cell_type": "code",
   "execution_count": null,
   "metadata": {},
   "outputs": [],
   "source": [
    "print('Lista de bins:\\n\\t{}'.format(list(bins)), '\\n')\n",
    "print('Lista de cantidades:\\n\\t{}'.format(list(n)))"
   ]
  },
  {
   "cell_type": "markdown",
   "metadata": {},
   "source": [
    "Se puede obtener lo mismo con el siguiente método de un DataFrame:\n",
    "```python\n",
    "df.hist(column=col, bins=12, density=False, color='green', alpha=0.75)\n",
    "```"
   ]
  },
  {
   "cell_type": "code",
   "execution_count": null,
   "metadata": {},
   "outputs": [],
   "source": [
    "df.hist(column='ANTIGUEDAD', bins=12, density=False, color='green', alpha=0.75)\n",
    "plt.xlabel('Antiguedad')\n",
    "plt.ylabel('Densidad')\n",
    "plt.title('Histograma de Antiguedad')\n",
    "plt.axis([-0.5, 15, 0, 6000])"
   ]
  },
  {
   "cell_type": "markdown",
   "metadata": {},
   "source": [
    "#### <font color=#003d5c>1.2. Diagrama de cajas </font>"
   ]
  },
  {
   "cell_type": "code",
   "execution_count": null,
   "metadata": {},
   "outputs": [],
   "source": [
    "x = plt.boxplot(x=df['EDAD'].dropna())"
   ]
  },
  {
   "cell_type": "markdown",
   "metadata": {},
   "source": [
    "#### <font color=#003d5c>1.3. Diagrama de barras </font>"
   ]
  },
  {
   "cell_type": "markdown",
   "metadata": {},
   "source": [
    "#### Graficar la distribución de la variable Target <font color=#28a745>ATTRITION</font> tal como se muestra en la imagen:\n",
    "La función plt.bar() te permite gaficar la distribución de una variable categórica.\n",
    "```python\n",
    "plt.bar(x, height, color='green')\n",
    "```"
   ]
  },
  {
   "cell_type": "code",
   "execution_count": null,
   "metadata": {
    "scrolled": true
   },
   "outputs": [],
   "source": [
    "col = 'ATTRITION'\n",
    "dfCat = df[col].value_counts(normalize=False, dropna=False).reset_index().rename(columns={'index': col, col: 'CNT'})\n",
    "ind = np.arange(len(dfCat[col]))\n",
    "bar = plt.bar(x=ind, height=dfCat['CNT'], color='green')\n",
    "xticks = plt.xticks(ind, dfCat[col])"
   ]
  },
  {
   "cell_type": "markdown",
   "metadata": {},
   "source": [
    "Para todas las variables categóricas"
   ]
  },
  {
   "cell_type": "markdown",
   "metadata": {},
   "source": [
    "<div class=\"alert alert-warning\" role=\"alert\">\n",
    "  <strong>Nota:</strong> Para poder manejar un layout personalizado usaremos el método `plt.subplot2grid()`.\n",
    "</div>\n",
    "```python\n",
    "fig = plt.figure(figsize=(25, 20))\n",
    "plt.subplot2grid(shape, loc, rowspan, colspan, fig)\n",
    "```"
   ]
  },
  {
   "cell_type": "code",
   "execution_count": null,
   "metadata": {
    "scrolled": true
   },
   "outputs": [],
   "source": [
    "fig, ax = plt.subplots(nrows=len(str_columns), ncols=1, figsize=(10, 30))\n",
    "for i, col in enumerate(str_columns):\n",
    "    dfCat = df[col].value_counts(normalize=False, dropna=False).reset_index().rename(columns={'index': col, col: 'CNT'})\n",
    "    ind = np.arange(len(dfCat[col]))\n",
    "    bar = ax[i].bar(x=ind, height=dfCat['CNT'], color='green', tick_label=dfCat[col])\n",
    "    plt.sca(ax[i])"
   ]
  },
  {
   "cell_type": "code",
   "execution_count": null,
   "metadata": {},
   "outputs": [],
   "source": [
    "fig = plt.figure(figsize=(25, 20))\n",
    "ax = [\n",
    "       plt.subplot2grid((4, 3), (0, 0), colspan=1, fig=fig),\n",
    "       plt.subplot2grid((4, 3), (0, 1), colspan=2, fig=fig),\n",
    "       plt.subplot2grid((4, 3), (1, 0), colspan=3, fig=fig),\n",
    "       plt.subplot2grid((4, 3), (2, 0), colspan=1, fig=fig),\n",
    "       plt.subplot2grid((4, 3), (3, 0), colspan=3, fig=fig),\n",
    "       plt.subplot2grid((4, 3), (2, 1), colspan=2, fig=fig),\n",
    "          ]\n",
    "for i, col in enumerate(str_columns):\n",
    "    dfCat = df[col].value_counts(normalize=True, dropna=False).reset_index().rename(columns={'index': col, col: 'CNT'})\n",
    "    ind = np.arange(len(dfCat[col]))\n",
    "    bar = ax[i].bar(x=ind, height=dfCat['CNT'], color='green', tick_label=dfCat[col])\n",
    "    plt.sca(ax[i])\n",
    "    plt.xlabel(col)\n",
    "    plt.ylabel('Densidad')\n",
    "    plt.title('Distribución de variable {}'.format(col))"
   ]
  },
  {
   "cell_type": "markdown",
   "metadata": {},
   "source": [
    "#### <font color=#003d5c>1.4. Gráfico Circular </font>\n"
   ]
  },
  {
   "cell_type": "code",
   "execution_count": null,
   "metadata": {
    "scrolled": true
   },
   "outputs": [],
   "source": [
    "col = 'ATTRITION'\n",
    "dfCat = df[col].value_counts(normalize=True, dropna=False).reset_index().rename(columns={'index': col, col: 'CNT'})\n",
    "ind = np.arange(len(dfCat[col]))\n",
    "fig = plt.figure(figsize=(5, 5))\n",
    "patches, texts, autotexts = plt.pie(dfCat['CNT'], labels=dfCat[col], shadow=False, autopct='%.0f%%')"
   ]
  },
  {
   "cell_type": "code",
   "execution_count": null,
   "metadata": {
    "scrolled": false
   },
   "outputs": [],
   "source": [
    "fig = plt.figure(figsize=(10, 32))\n",
    "ax = [\n",
    "       plt.subplot2grid((6, 2), (0, 0), colspan=1, fig=fig),\n",
    "       plt.subplot2grid((6, 2), (0, 1), colspan=1, fig=fig),\n",
    "       plt.subplot2grid((6, 2), (1, 0), colspan=2, rowspan=2, fig=fig),\n",
    "       plt.subplot2grid((6, 2), (3, 0), colspan=1, fig=fig),\n",
    "       plt.subplot2grid((6, 2), (4, 0), colspan=2, rowspan=2, fig=fig),\n",
    "       plt.subplot2grid((6, 2), (3, 1), colspan=1, fig=fig),\n",
    "          ]\n",
    "for i, col in enumerate(str_columns):\n",
    "    dfCat = df[col].value_counts(normalize=True, dropna=False).reset_index().rename(columns={'index': col, col: 'CNT'})\n",
    "    ind = np.arange(len(dfCat[col]))\n",
    "    patches, texts, autotexts = ax[i].pie(dfCat['CNT'], labels=dfCat[col], shadow=False, autopct='%.0f%%')"
   ]
  },
  {
   "cell_type": "markdown",
   "metadata": {},
   "source": [
    "#### <font color=#003d5c>1.5. Scatter Plots </font>"
   ]
  },
  {
   "cell_type": "code",
   "execution_count": null,
   "metadata": {
    "scrolled": true
   },
   "outputs": [],
   "source": [
    "N = len(df['ANTIGUEDAD'])\n",
    "colors = np.random.rand(N)\n",
    "area = (4 * np.random.rand(N))**2\n",
    "plt.scatter(df['ANTIGUEDAD'], df['EDAD'], s=area, c=colors, alpha=0.5)\n",
    "plt.xlabel('Antiguedad')\n",
    "plt.ylabel('Edad')\n",
    "plt.title('Relación Antiguedad - Edad')\n",
    "plt.axis([-0.5, 15, 15, 90])\n",
    "#plt.grid(True)"
   ]
  },
  {
   "cell_type": "markdown",
   "metadata": {},
   "source": [
    "#### <font color=#003d5c>1.6. Ratios de Efectividad </font>"
   ]
  },
  {
   "cell_type": "code",
   "execution_count": null,
   "metadata": {},
   "outputs": [],
   "source": [
    "import matplotlib.patches as mpatches"
   ]
  },
  {
   "cell_type": "code",
   "execution_count": null,
   "metadata": {},
   "outputs": [],
   "source": [
    "dfRatio = df.groupby(pd.qcut(df['EDAD'], 10)).agg({'ATTRITION':'mean', 'ID_CORRELATIVO':'count'}).reset_index()"
   ]
  },
  {
   "cell_type": "code",
   "execution_count": null,
   "metadata": {},
   "outputs": [],
   "source": [
    "fig, ax1 = plt.subplots(figsize=(15, 5))\n",
    "ind = np.arange(len(dfRatio['EDAD']))\n",
    "b = plt.bar(x=ind, height=dfRatio['ID_CORRELATIVO'], color='paleturquoise', tick_label=dfRatio['EDAD'])\n",
    "ax1.set_xlabel('Rangos de Edad')\n",
    "ax1.set_ylabel('Cantidad')\n",
    "ax1.tick_params('both')\n",
    "ax2 = ax1.twinx()\n",
    "r = ax2.plot(ind, dfRatio['ATTRITION'], 'r.--')\n",
    "ax2.set_ylabel('Ratio de Efectividad', color='r')\n",
    "ax2.tick_params('y', colors='r')\n",
    "yaxis = ax2.axis(ymin=0, ymax=0.25)\n",
    "title = plt.title('Ratios de Efectividad por Rangos de EDAD')\n",
    "ax3 = ax1.twinx()\n",
    "a = ax3.plot(ind, [df['ATTRITION'].mean()] * len(dfRatio['EDAD']),'-', color='darkblue')\n",
    "yaxis = ax3.axis(ymin=0, ymax=0.25)\n",
    "ax3.tick_params('y', colors='r')\n",
    "edad_patch = mpatches.Patch(color='paleturquoise', label='Rango de Edad')\n",
    "ratio_patch = mpatches.Patch(color='red', label='Ratio de Churn', linestyle='--')\n",
    "average_patch = mpatches.Patch(color='darkblue', label='Promedio de Churn', linestyle='-')\n",
    "legend = plt.legend(handles=[edad_patch, ratio_patch, average_patch])"
   ]
  },
  {
   "cell_type": "markdown",
   "metadata": {},
   "source": [
    "#### <font color=#003d5c>1.7. Mapa de Calor</font>"
   ]
  },
  {
   "cell_type": "code",
   "execution_count": null,
   "metadata": {},
   "outputs": [],
   "source": [
    "fig = plt.figure(figsize=(15, 10))\n",
    "sns.heatmap(df.corr(), linewidths=1.5)"
   ]
  },
  {
   "cell_type": "markdown",
   "metadata": {},
   "source": [
    "#### Importar la segunda librería necesaria para la visualización de datos:\n",
    "### <font color=#003d5c>2. Seaborn</font>\n",
    "<img src=\"../img/seaborn_plots.png\" />\n",
    "```python\n",
    "import seaborn as sns\n",
    "```"
   ]
  },
  {
   "cell_type": "code",
   "execution_count": null,
   "metadata": {},
   "outputs": [],
   "source": [
    "import seaborn as sns"
   ]
  },
  {
   "cell_type": "markdown",
   "metadata": {},
   "source": [
    "#### <font color=#003d5c>2.1. Histograma </font>\n",
    "Un histograma representa la distribución de datos formando contenedores a lo largo del rango de los datos y luego dibujando barras para mostrar el número de observaciones que caen en cada contenedor."
   ]
  },
  {
   "cell_type": "code",
   "execution_count": null,
   "metadata": {
    "scrolled": true
   },
   "outputs": [],
   "source": [
    "ax = sns.distplot(df['EDAD'].dropna(), kde=False, rug=True)"
   ]
  },
  {
   "cell_type": "markdown",
   "metadata": {},
   "source": [
    "<div class=\"alert alert-warning\" role=\"alert\">\n",
    "  <strong>Nota:</strong> Al dibujar histogramas, la opción principal que tiene es la cantidad de bandejas que se deben usar y dónde ubicarlas. `distplot ()` usa una regla simple para adivinar cuál es el número correcto de forma predeterminada, pero al intentar más o menos ubicaciones puede revelar otras características en los datos.\n",
    "</div>"
   ]
  },
  {
   "cell_type": "code",
   "execution_count": null,
   "metadata": {},
   "outputs": [],
   "source": [
    "ax = sns.distplot(df['EDAD'].dropna(), bins=20, kde=False, rug=True)"
   ]
  },
  {
   "cell_type": "markdown",
   "metadata": {},
   "source": [
    "<div class=\"alert alert-info\" role=\"alert\">\n",
    "  <strong>Info Adicional:</strong> La estimación de la densidad del núcleo (KDE) puede ser menos familiar, pero puede ser una herramienta útil para trazar la forma de una distribución. Al igual que el histograma, las representaciones de KDE codifican la densidad de las observaciones en un eje con la altura a lo largo del otro eje.\n",
    "</div>"
   ]
  },
  {
   "cell_type": "code",
   "execution_count": null,
   "metadata": {},
   "outputs": [],
   "source": [
    "ax = sns.distplot(df['EDAD'].dropna(), hist=False, rug=True)"
   ]
  },
  {
   "cell_type": "markdown",
   "metadata": {},
   "source": [
    "#### <font color=#003d5c>1.2. Diagrama de cajas </font>"
   ]
  },
  {
   "cell_type": "code",
   "execution_count": null,
   "metadata": {},
   "outputs": [],
   "source": [
    "sns.set_style(\"whitegrid\")"
   ]
  },
  {
   "cell_type": "code",
   "execution_count": null,
   "metadata": {},
   "outputs": [],
   "source": [
    "ax = sns.boxplot(x=df['EDAD'].dropna())"
   ]
  },
  {
   "cell_type": "code",
   "execution_count": null,
   "metadata": {},
   "outputs": [],
   "source": [
    "fig = plt.figure(figsize=(17, 8))\n",
    "ax = sns.boxplot(x=\"RANG_INGRESO\", y=\"EDAD\", data=df)"
   ]
  },
  {
   "cell_type": "code",
   "execution_count": null,
   "metadata": {
    "scrolled": true
   },
   "outputs": [],
   "source": [
    "fig = plt.figure(figsize=(15, 10))\n",
    "ax = sns.boxplot(x=\"RANG_INGRESO\", y=\"EDAD\", hue=\"ATTRITION\", data=df, palette=\"Set3\")"
   ]
  },
  {
   "cell_type": "markdown",
   "metadata": {},
   "source": [
    "#### <font color=#003d5c>2.3. Diagrama de barras </font>"
   ]
  },
  {
   "cell_type": "code",
   "execution_count": null,
   "metadata": {},
   "outputs": [],
   "source": [
    "from numpy import mean, count_nonzero, std"
   ]
  },
  {
   "cell_type": "code",
   "execution_count": null,
   "metadata": {
    "scrolled": false
   },
   "outputs": [],
   "source": [
    "fig = plt.figure(figsize=(15, 5))\n",
    "g = sns.barplot(x=\"RANG_INGRESO\", y=\"ATTRITION\", data=df, estimator=mean)"
   ]
  },
  {
   "cell_type": "markdown",
   "metadata": {},
   "source": [
    "#### <font color=#003d5c>2.4. Gráfico Circular </font>"
   ]
  },
  {
   "cell_type": "markdown",
   "metadata": {},
   "source": [
    "#### <font color=#003d5c>2.5. Scatter Plots </font>"
   ]
  },
  {
   "cell_type": "code",
   "execution_count": null,
   "metadata": {
    "scrolled": true
   },
   "outputs": [],
   "source": [
    "g = sns.pairplot(df.dropna(), hue=\"ATTRITION\")"
   ]
  },
  {
   "cell_type": "markdown",
   "metadata": {},
   "source": [
    "#### <font color=#003d5c>2.6. Ratios de Efectividad </font>"
   ]
  },
  {
   "cell_type": "code",
   "execution_count": null,
   "metadata": {},
   "outputs": [],
   "source": [
    "sns.set_style(\"whitegrid\", {'axes.grid' : False})"
   ]
  },
  {
   "cell_type": "code",
   "execution_count": null,
   "metadata": {},
   "outputs": [],
   "source": [
    "fig, ax = plt.subplots(figsize=(15, 5))\n",
    "g = sns.countplot(x=\"RANG_INGRESO\", data=df, palette=\"GnBu_d\")\n",
    "ax1 = ax.twinx()\n",
    "g = sns.pointplot(x=\"RANG_INGRESO\", y=\"ATTRITION\", data=df, markers=[\"o\"], linestyles=[\"--\"], color='red', ax=ax1, ci=None)"
   ]
  },
  {
   "cell_type": "code",
   "execution_count": null,
   "metadata": {},
   "outputs": [],
   "source": [
    "df['RANGO_EDAD_DECIL'] = pd.qcut(df['EDAD'], 10)"
   ]
  },
  {
   "cell_type": "code",
   "execution_count": null,
   "metadata": {
    "scrolled": true
   },
   "outputs": [],
   "source": [
    "fig, ax = plt.subplots(figsize=(15, 5))\n",
    "g = sns.countplot(x=\"RANGO_EDAD_DECIL\", data=df, palette=\"GnBu_d\")\n",
    "ax1 = ax.twinx()\n",
    "g = sns.pointplot(x=\"RANGO_EDAD_DECIL\", y=\"ATTRITION\", data=df, markers=[\"o\"], linestyles=[\"--\"], color='red', ax=ax1, ci=None)\n",
    "#yaxis = ax1.axis(ymin=0, ymax=0.20)\n",
    "g = plt.plot(range(len(df['RANGO_EDAD_DECIL'].unique()) - 1),(len(df['RANGO_EDAD_DECIL'].unique()) - 1) * [df['ATTRITION'].mean()], '-g')"
   ]
  },
  {
   "cell_type": "markdown",
   "metadata": {},
   "source": [
    "#### Importar la tercera librería necesaria para la visualización de datos:\n",
    "### <font color=#003d5c>3. Plotly</font>\n",
    "<img src=\"../img/plotly_logo.png\" />\n",
    "```python\n",
    "import plotly.plotly as py\n",
    "```"
   ]
  },
  {
   "cell_type": "code",
   "execution_count": null,
   "metadata": {},
   "outputs": [],
   "source": [
    "import plotly.plotly as py"
   ]
  },
  {
   "cell_type": "markdown",
   "metadata": {},
   "source": [
    "#### <font color=#003d5c>3.1. Histograma </font>\n",
    "Un histograma representa la distribución de datos formando contenedores a lo largo del rango de los datos y luego dibujando barras para mostrar el número de observaciones que caen en cada contenedor."
   ]
  },
  {
   "cell_type": "code",
   "execution_count": null,
   "metadata": {},
   "outputs": [],
   "source": [
    "import plotly.graph_objs as go"
   ]
  },
  {
   "cell_type": "code",
   "execution_count": null,
   "metadata": {
    "scrolled": true
   },
   "outputs": [],
   "source": [
    "data = [go.Histogram(x=df['EDAD'].dropna(), histnorm='probability')]\n",
    "py.iplot(data, filename='Histograma de la variable EDAD')"
   ]
  },
  {
   "cell_type": "code",
   "execution_count": null,
   "metadata": {
    "scrolled": true
   },
   "outputs": [],
   "source": [
    "trace1 = go.Histogram(\n",
    "    x=df.loc[df['ATTRITION'] == 0, 'EDAD'].dropna(),\n",
    "    opacity=0.75,\n",
    "    name='Attrition 0',\n",
    "    xbins=dict(\n",
    "        start=0,\n",
    "        end=70,\n",
    "        size=0.5\n",
    "    ),\n",
    "    marker=dict(\n",
    "        color='#5bc0de',\n",
    "    ),\n",
    ")\n",
    "trace2 = go.Histogram(\n",
    "    x=df.loc[df['ATTRITION'] == 1, 'EDAD'].dropna(),\n",
    "    opacity=0.75,\n",
    "    name='Attrition 1',\n",
    "    xbins=dict(\n",
    "        start=0,\n",
    "        end=70,\n",
    "        size=0.5\n",
    "    )    \n",
    ")\n",
    "\n",
    "data = [trace1, trace2]\n",
    "layout = go.Layout(barmode='overlay',\n",
    "                   title='Histograma de la variable EDAD',\n",
    "                    xaxis=dict(\n",
    "                        title='Edad'\n",
    "                    ),\n",
    "                    yaxis=dict(\n",
    "                        title='Count'\n",
    "                    ))\n",
    "\n",
    "fig = go.Figure(data=data, layout=layout)\n",
    "py.iplot(fig, filename='histograma EDAD')"
   ]
  },
  {
   "cell_type": "code",
   "execution_count": null,
   "metadata": {
    "scrolled": true
   },
   "outputs": [],
   "source": [
    "col = 'RANG_INGRESO'\n",
    "dfCat = df[col].value_counts(normalize=True, dropna=False).reset_index().rename(columns={'index': col, col: 'CNT'})\n",
    "fig = {\n",
    "  \"data\": [\n",
    "    {\n",
    "      \"values\": dfCat['CNT'].tolist(),\n",
    "      \"labels\": dfCat[col].tolist(),\n",
    "      #\"domain\": {\"x\": [.52, 1]},\n",
    "      \"name\": \"Sexo\",\n",
    "      \"hoverinfo\":\"label+percent+name\",\n",
    "      \"hole\": .4,\n",
    "      \"type\": \"pie\"\n",
    "    }],\n",
    "  \"layout\": {\n",
    "        \"title\":\"Distribución de variables SEXO\",\n",
    "        \"annotations\": [\n",
    "            {\n",
    "                \"font\": {\n",
    "                    \"size\": 20\n",
    "                },\n",
    "                \"showarrow\": False,\n",
    "                \"text\": \"SEXO\",\n",
    "                #\"x\": 0.8,\n",
    "                #\"y\": 0.5\n",
    "            }\n",
    "        ]\n",
    "    }\n",
    "}\n",
    "py.iplot(fig, filename='donut')"
   ]
  },
  {
   "cell_type": "code",
   "execution_count": null,
   "metadata": {},
   "outputs": [],
   "source": []
  },
  {
   "cell_type": "code",
   "execution_count": null,
   "metadata": {},
   "outputs": [],
   "source": [
    "# boxplot, countplot, histogram, piechart, correlation_matrix (metric types), heatmap (null counts), Scatterplot Matrix "
   ]
  },
  {
   "cell_type": "markdown",
   "metadata": {},
   "source": [
    "# <font color=#003d5c>3.2 Preprocesamiento de Datos</font>\n"
   ]
  },
  {
   "cell_type": "markdown",
   "metadata": {},
   "source": [
    "### 3.2.1. Formateo"
   ]
  },
  {
   "cell_type": "code",
   "execution_count": null,
   "metadata": {},
   "outputs": [],
   "source": [
    "# astype, pd.to_numeric (optimizacion), "
   ]
  },
  {
   "cell_type": "markdown",
   "metadata": {},
   "source": [
    "### 3.2.2. Limpieza"
   ]
  },
  {
   "cell_type": "code",
   "execution_count": null,
   "metadata": {},
   "outputs": [],
   "source": [
    "# Imputacion (https://www.analyticsvidhya.com/blog/2016/01/guide-data-exploration/)"
   ]
  },
  {
   "cell_type": "markdown",
   "metadata": {},
   "source": [
    "# <font color=#003d5c>3.3 Feature Engineering</font>\n"
   ]
  },
  {
   "cell_type": "markdown",
   "metadata": {},
   "source": [
    "### 3.3.1. Estandarización"
   ]
  },
  {
   "cell_type": "code",
   "execution_count": null,
   "metadata": {},
   "outputs": [],
   "source": [
    "# Scala, Normalización, "
   ]
  },
  {
   "cell_type": "code",
   "execution_count": null,
   "metadata": {},
   "outputs": [],
   "source": []
  },
  {
   "cell_type": "markdown",
   "metadata": {},
   "source": [
    "### 3.3.2. Descomposición"
   ]
  },
  {
   "cell_type": "code",
   "execution_count": null,
   "metadata": {},
   "outputs": [],
   "source": [
    "# Creatividad "
   ]
  },
  {
   "cell_type": "markdown",
   "metadata": {},
   "source": [
    "### 3.3.3. Agregación"
   ]
  },
  {
   "cell_type": "code",
   "execution_count": null,
   "metadata": {},
   "outputs": [],
   "source": []
  },
  {
   "cell_type": "markdown",
   "metadata": {},
   "source": [
    "# <font color=#003d5c>3.4 Ejercicio Práctico</font>\n"
   ]
  },
  {
   "cell_type": "code",
   "execution_count": null,
   "metadata": {},
   "outputs": [],
   "source": []
  },
  {
   "cell_type": "code",
   "execution_count": null,
   "metadata": {},
   "outputs": [],
   "source": []
  },
  {
   "cell_type": "code",
   "execution_count": null,
   "metadata": {},
   "outputs": [],
   "source": []
  },
  {
   "cell_type": "code",
   "execution_count": null,
   "metadata": {},
   "outputs": [],
   "source": []
  },
  {
   "cell_type": "code",
   "execution_count": null,
   "metadata": {},
   "outputs": [],
   "source": []
  },
  {
   "cell_type": "code",
   "execution_count": null,
   "metadata": {},
   "outputs": [],
   "source": []
  }
 ],
 "metadata": {
  "kernelspec": {
   "display_name": "Python 3",
   "language": "python",
   "name": "python3"
  },
  "language_info": {
   "codemirror_mode": {
    "name": "ipython",
    "version": 3
   },
   "file_extension": ".py",
   "mimetype": "text/x-python",
   "name": "python",
   "nbconvert_exporter": "python",
   "pygments_lexer": "ipython3",
   "version": "3.6.3"
  }
 },
 "nbformat": 4,
 "nbformat_minor": 2
}
